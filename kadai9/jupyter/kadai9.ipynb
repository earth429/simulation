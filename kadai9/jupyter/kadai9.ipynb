{
 "cells": [
  {
   "cell_type": "code",
   "execution_count": 2,
   "metadata": {},
   "outputs": [],
   "source": [
    "import numpy as np\n",
    "import pandas as pd\n",
    "import matplotlib.pyplot as plt\n",
    "import seaborn as sns"
   ]
  },
  {
   "cell_type": "code",
   "execution_count": 5,
   "metadata": {},
   "outputs": [
    {
     "data": {
      "text/plain": [
       "<bound method NDFrame.tail of          step         X         Y        Vx        Vy\n",
       "0      t0=0.0    x0=0.1   vx0=0.0    y0=0.0   vy0=0.1\n",
       "1           t         x        vx         y        vy\n",
       "2    0.000000  0.100000  0.000000  0.000000  0.100000\n",
       "3    0.001000  0.100000  0.000100  0.000100  0.100000\n",
       "4    0.002000  0.100000  0.000200  0.000200  0.100000\n",
       "..        ...       ...       ...       ...       ...\n",
       "197  0.195000  0.101888  0.019388  0.019388  0.098114\n",
       "198  0.196000  0.101907  0.019486  0.019486  0.098095\n",
       "199  0.197000  0.101926  0.019585  0.019585  0.098075\n",
       "200  0.198000  0.101946  0.019683  0.019683  0.098056\n",
       "201  0.199000  0.101966  0.019781  0.019781  0.098036\n",
       "\n",
       "[202 rows x 5 columns]>"
      ]
     },
     "execution_count": 5,
     "metadata": {},
     "output_type": "execute_result"
    }
   ],
   "source": [
    "df1 = pd.read_csv(\"kadai9-1.csv\",header=None)\n",
    "df1 = df1.rename(columns={0:\"step\",1:\"X\",2:\"Y\",3:\"Vx\",4:\"Vy\",5:\"V\"})\n",
    "df1.tail"
   ]
  },
  {
   "cell_type": "code",
   "execution_count": null,
   "metadata": {},
   "outputs": [],
   "source": [
    "plt.figure(figsize=(6,4),facecolor=\"white\")\n",
    "plt.tick_params(direction='in',#目盛り内側\n",
    "                pad =10, #目盛りとラベルの距離\n",
    "                length=7.5, #目盛りの長さ\n",
    "                width=1.5, #目盛りの幅\n",
    "                labelsize=12,\n",
    "               )\n",
    "plt.plot(df1[\"X\"],df1[\"Y\"],linewidth=1)\n",
    "plt.grid(False);\n",
    "plt.xlabel(\"X\",fontsize=15)\n",
    "plt.ylabel(\"Y\",fontsize=15)\n",
    "plt.savefig(\"kadai9-1.pdf\")"
   ]
  }
 ],
 "metadata": {
  "kernelspec": {
   "display_name": "Python 3",
   "language": "python",
   "name": "python3"
  },
  "language_info": {
   "codemirror_mode": {
    "name": "ipython",
    "version": 3
   },
   "file_extension": ".py",
   "mimetype": "text/x-python",
   "name": "python",
   "nbconvert_exporter": "python",
   "pygments_lexer": "ipython3",
   "version": "3.7.9"
  }
 },
 "nbformat": 4,
 "nbformat_minor": 4
}
